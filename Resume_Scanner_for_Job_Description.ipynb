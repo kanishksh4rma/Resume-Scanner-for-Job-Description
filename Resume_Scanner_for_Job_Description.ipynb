{
  "nbformat": 4,
  "nbformat_minor": 0,
  "metadata": {
    "colab": {
      "name": "Resume_Scanner_for_Job_Description.ipynb",
      "provenance": [],
      "collapsed_sections": []
    },
    "kernelspec": {
      "name": "python3",
      "display_name": "Python 3"
    }
  },
  "cells": [
    {
      "cell_type": "code",
      "metadata": {
        "id": "gBVttA63rfks",
        "colab_type": "code",
        "colab": {
          "base_uri": "https://localhost:8080/",
          "height": 39
        },
        "outputId": "60c68fe1-f352-4b97-a876-d24b56dd94f2"
      },
      "source": [
        "'''\n",
        "\n",
        "project name : shinzo abe tweeter sentiments\n",
        "author : @kanishksh4rma\n",
        "\n",
        "'''"
      ],
      "execution_count": 21,
      "outputs": [
        {
          "output_type": "execute_result",
          "data": {
            "application/vnd.google.colaboratory.intrinsic+json": {
              "type": "string"
            },
            "text/plain": [
              "'\\n\\nproject name : shinzo abe tweeter sentiments\\nauthor : @kanishksh4rma\\n\\n'"
            ]
          },
          "metadata": {
            "tags": []
          },
          "execution_count": 21
        }
      ]
    },
    {
      "cell_type": "code",
      "metadata": {
        "id": "pT4Yo_9zotkV",
        "colab_type": "code",
        "colab": {}
      },
      "source": [
        "#intall the required library\n",
        "#pip install docx2txt\n",
        "\n",
        "import docx2txt\n",
        "import warnings\n",
        "warnings.filterwarnings('ignore')"
      ],
      "execution_count": 20,
      "outputs": []
    },
    {
      "cell_type": "code",
      "metadata": {
        "id": "NqDoUjFlpHsE",
        "colab_type": "code",
        "colab": {}
      },
      "source": [
        "# load the data\n",
        "resume = docx2txt.process('python-sample-resume.docx')\n",
        "job = docx2txt.process('python-job-description.docx')"
      ],
      "execution_count": 22,
      "outputs": []
    },
    {
      "cell_type": "code",
      "metadata": {
        "id": "ciJsuAJrpZMi",
        "colab_type": "code",
        "colab": {
          "base_uri": "https://localhost:8080/",
          "height": 156
        },
        "outputId": "d967743a-9383-4857-8ecd-4c708604d771"
      },
      "source": [
        "# printing the resume\n",
        "resume"
      ],
      "execution_count": 15,
      "outputs": [
        {
          "output_type": "execute_result",
          "data": {
            "application/vnd.google.colaboratory.intrinsic+json": {
              "type": "string"
            },
            "text/plain": [
              "'Loren Brekke \\n\\n9873 Ignacio Corners Boston \\n\\nMA \\n\\nPhone +1 (555) 570 0033 \\n\\n\\n\\nExperience \\n\\nHouston, TX \\n\\nPython Applications Developer \\n\\n10/2015 – present \\n\\n\\t\\tHelp set development standards in areas of best practices, code quality, test coverage, monitoring, logging, exception management, and others\\n\\n\\t\\tBecome proficient in Python, and the Athena platform’s NoSql OO database, graph-oriented development model and developer toolset\\n\\n\\t\\tPerform unit testing and system integration testing of the newly developed functionality\\n\\n\\t\\tCreate technical design recommendations for developing and integrating programs per written specifications\\n\\n\\t\\tConduct code reviews on components and applications to ensure adherence to the development standards and best practices\\n\\n\\t\\tImprove SDLC\\n\\n\\t\\tIntegrate various systems to improve efficiency\\n\\nLos Angeles, CA \\n\\nPython Application Developer \\n\\n02/2013 – 08/2015 \\n\\n\\t\\tExecute change management activities supporting production deployment to Developers, Quality Control Analysts, and Environment Management personnel\\n\\n\\t\\tKnowledge of software development life cycle and agile development practices\\n\\n\\t\\tStrong knowledge of Spring frameworks and leveraging distributed data caching frameworks\\n\\n\\t\\tProvide guidance and oversight to development teams across Capital technology\\n\\n\\t\\tWorking with production support teams to ensure smooth transition of software developed\\n\\n\\t\\tDevelop code for intermediate to complex modules, following documentation and development standards\\n\\n\\t\\tWork with the development team to facilitate the Build effort and to ensure successful end-to-End integration / testing\\n\\nChicago, IL \\n\\nPython \\n\\n12/2005 – 09/2012 \\n\\n\\t\\tWork with production support teams to ensure smooth transition of software developed\\n\\n\\t\\tWork in an environment which encourages and promotes personal development\\n\\n\\t\\tProvide design recommendations, developing and integrating programs per high level specifications\\n\\n\\t\\tLiaise with other teams and providers\\n\\n\\t\\tBe an active part of a larger internal open source community of developers at Hearst\\n\\n\\t\\tDeveloping a world-class, machine learning-driven recommendation and personalization system to match our users with jobs\\n\\n\\t\\tUnderstand the project scope, identify activities/ tasks, task level estimates, schedule, dependencies, risks and provide inputs to Module Lead for review\\n\\nEducation \\n\\nBachelor’s Degree in Computer Science \\n\\nKent State University \\n\\nSkills \\n\\n\\t\\tFront-office/risk management business knowledge as well as Knowledge of financial instrument features and trade processing would be a definite \\n\\n\\t\\tStrong analytical ability \\n\\n\\t\\tAble to react quickly and perform well under stress and high demand \\n\\n\\t\\tWorking Excel knowledge including VBA, pivot tables, formulas \\n\\n\\t\\tProven strong experience with databases ( columnar, nosql and RDMS ) and good SQL skills \\n\\n\\t\\tWillingness to take ownership of tasks and the ability to work on their own initiative while being a strong team player \\n\\n\\t\\tExcellent verbal and written communication skills, able to communicate accurately, concisely and with tact and diplomacy when appropriate \\n\\n\\t\\tDevelop a good understanding of End to End business processes and the associated technical blocks \\n\\n\\t\\tEquities business knowledge is an advantage but other relevant experience in other business areas is welcomed \\n\\n\\t\\tThe ability to work under pressure within agreed timelines and to support multiple tasks in parallel'"
            ]
          },
          "metadata": {
            "tags": []
          },
          "execution_count": 15
        }
      ]
    },
    {
      "cell_type": "code",
      "metadata": {
        "id": "bo7IIqkxpap7",
        "colab_type": "code",
        "colab": {
          "base_uri": "https://localhost:8080/",
          "height": 156
        },
        "outputId": "fec3c761-1527-44e5-8a59-7ce2183d795f"
      },
      "source": [
        "#print the job description\n",
        "job"
      ],
      "execution_count": 5,
      "outputs": [
        {
          "output_type": "execute_result",
          "data": {
            "application/vnd.google.colaboratory.intrinsic+json": {
              "type": "string"
            },
            "text/plain": [
              "'Python Developer responsibilities include:\\n\\n\\t\\tWriting effective, scalable code \\n\\n\\t\\tDeveloping back-end components to improve responsiveness and overall performance \\n\\n\\t\\tIntegrating user-facing elements into applications \\n\\nJob brief\\n\\nWe are looking for a Python Developer to join our engineering team and help us develop and maintain various software products.\\n\\nPython Developer responsibilities include writing and testing code, debugging programs and integrating applications with third-party web services. To be successful in this role, you should have experience using server-side logic and work well in a team.\\n\\nUltimately, you’ll build highly responsive web applications that align with our business needs.\\n\\nResponsibilities\\n\\n\\t\\tWrite effective, scalable code \\n\\n\\t\\tDevelop back-end components to improve responsiveness and overall performance \\n\\n\\t\\tIntegrate user-facing elements into applications \\n\\n\\t\\tTest and debug programs \\n\\n\\t\\tImprove functionality of existing systems \\n\\n\\t\\tImplement security and data protection solutions \\n\\n\\t\\tAssess and prioritize feature requests \\n\\n\\t\\tCoordinate with internal teams to understand user requirements and provide technical solutions \\n\\nRequirements\\n\\n\\t\\tWork experience as a Python Developer \\n\\n\\t\\tExpertise in at least one popular Python framework (like Django, Flask or Pyramid) \\n\\n\\t\\tKnowledge of object-relational mapping (ORM) \\n\\n\\t\\tFamiliarity with front-end technologies (like JavaScript and HTML5) \\n\\n\\t\\tTeam spirit \\n\\n\\t\\tGood problem-solving skills \\n\\n\\t\\tBSc in Computer Science, Engineering or relevant field'"
            ]
          },
          "metadata": {
            "tags": []
          },
          "execution_count": 5
        }
      ]
    },
    {
      "cell_type": "code",
      "metadata": {
        "id": "jg8sSwoopb9Q",
        "colab_type": "code",
        "colab": {}
      },
      "source": [
        "# a list of text\n",
        "\n",
        "text = [resume,job]"
      ],
      "execution_count": 6,
      "outputs": []
    },
    {
      "cell_type": "code",
      "metadata": {
        "id": "yuZ3dpn7piP3",
        "colab_type": "code",
        "colab": {}
      },
      "source": [
        "from sklearn.feature_extraction.text import CountVectorizer\n",
        "\n",
        "cv = CountVectorizer()\n",
        "count_matrix = cv.fit_transform(text)"
      ],
      "execution_count": 7,
      "outputs": []
    },
    {
      "cell_type": "code",
      "metadata": {
        "id": "QbjBzHu7ptPN",
        "colab_type": "code",
        "colab": {
          "base_uri": "https://localhost:8080/",
          "height": 56
        },
        "outputId": "5661ebf7-537e-44f8-83f7-cbf2be75c381"
      },
      "source": [
        "# import cosine similarity \n",
        "\n",
        "from sklearn.metrics.pairwise import cosine_similarity\n",
        "\n",
        "#print similarity score\n",
        "\n",
        "print('Similarity score : ',cosine_similarity(count_matrix))"
      ],
      "execution_count": 8,
      "outputs": [
        {
          "output_type": "stream",
          "text": [
            "Similarity score :  [[1.         0.63676947]\n",
            " [0.63676947 1.        ]]\n"
          ],
          "name": "stdout"
        }
      ]
    },
    {
      "cell_type": "code",
      "metadata": {
        "id": "tM68SAs1qB7G",
        "colab_type": "code",
        "colab": {
          "base_uri": "https://localhost:8080/",
          "height": 36
        },
        "outputId": "35941908-9485-44bd-a884-1b6488975d61"
      },
      "source": [
        "# get the percentage\n",
        "matchpercentage = cosine_similarity(count_matrix)[0][1]\n",
        "matchpercentage = round(matchpercentage*100,2)\n",
        "print('Your Resume {} % match to the job description !'.format(matchpercentage))"
      ],
      "execution_count": 14,
      "outputs": [
        {
          "output_type": "stream",
          "text": [
            "Your Resume 63.68 % match to the job description !\n"
          ],
          "name": "stdout"
        }
      ]
    }
  ]
}